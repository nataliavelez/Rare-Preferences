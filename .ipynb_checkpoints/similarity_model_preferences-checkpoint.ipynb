{
 "cells": [
  {
   "cell_type": "markdown",
   "metadata": {},
   "source": [
    "# Similarity model: Gazorp task predictions\n",
    "Natalia Vélez, May 2018\n",
    "\n",
    "This model is an application of the Bayesian contrast model (Tversky, 1977), first implemented by Kemp, Bernstein & Tenenbaum (2005) and later extended by Gershman (submitted).\n",
    "\n",
    "Specifically, we've applied this model to the *rare preference effect* (Vélez, Bridgers & Gweon, 2016; see Experiment 2). All else being equal, adults affiliate with—and endorse others' affiliation with—people who share rare preferences with them, rather than people who share more common preferences with them. We applied the models above to test one possible reason for this effect: although people share similarities with both people who share rare preferences with them and people who share common preferences, they might perceive themselves to be *more similar* to people who share rare preferences with them.\n",
    "\n",
    "**References:**\n",
    "\n",
    "* Gershman, S.J. (submitted). Similarity as inference. [(link)](http://gershmanlab.webfactional.com/pubs/similarity_inference.pdf)\n",
    "* Kemp, C., Bernstein, A., & Tenenbaum, J. B. (2005). A generative theory of similarity. In *Proceedings of the 27th Annual Conference of the Cognitive Science Society.* [(link)](http://www.psy.cmu.edu/~ckemp/papers/KempBT05.pdf)\n",
    "* Tversky, A. (1977). Features of similarity. *Psychological review*, 84(4), 327.\n",
    "* Vélez, N., Bridgers, S., & Gweon, H. (2016). Not all overlaps are equal: Social affiliation and rare overlaps of preferences. In *Proceedings of the 38th Annual Conference of the Cognitive Science Society.* [(link)](http://sll.stanford.edu/docs/Velez_Bridgers_Gweon_CogSci2016_final.pdf)"
   ]
  },
  {
   "cell_type": "markdown",
   "metadata": {},
   "source": [
    "Load dependencies:"
   ]
  },
  {
   "cell_type": "code",
   "execution_count": 1,
   "metadata": {
    "collapsed": false
   },
   "outputs": [],
   "source": [
    "% matplotlib inline\n",
    "import numpy as np\n",
    "import matplotlib.pyplot as plt\n",
    "import matplotlib.colors as colors\n",
    "import pandas as pd\n",
    "import seaborn as sns\n",
    "\n",
    "sns.set_style(\"white\")"
   ]
  },
  {
   "cell_type": "markdown",
   "metadata": {},
   "source": [
    "## Generate populations of Gazorps"
   ]
  },
  {
   "cell_type": "markdown",
   "metadata": {},
   "source": [
    "**Randomly generate population**\n",
    "\n",
    "`generate_population` generates an N x 2 matrix, where N is the number of Gazorps in the population. Each row is a Gazorp in the population, and each columm is a feature (likes common game, likes rare game). For example, a row containing [1, 0] denotes a Gazorp who likes the common game, but not the rare game.\n",
    "\n",
    "*Note:* The exact predictions of this model depend not only on the popularity of the game, but also on the degree of overlap between people who like the common and rare game. This is a novel prediction of the model that we may follow up on in future work; for now, by default, we hold the degree of overlap fixed."
   ]
  },
  {
   "cell_type": "code",
   "execution_count": 2,
   "metadata": {
    "collapsed": false
   },
   "outputs": [],
   "source": [
    "def generate_population(common, rare, overlap = None, pop_size = 100):\n",
    "    '''\n",
    "    \n",
    "    generate_population\n",
    "\n",
    "    common = # gazorps who like the popular game\n",
    "    rare = # gazorps who like the rare game\n",
    "    overlap = # gazorps who like both games. If no value is provided for overlap, gazorps are generated at random. \n",
    "    pop = population size (for debugging only)\n",
    "    \n",
    "    Note: For this to work,\n",
    "    overlap <= rare, and \n",
    "    pop_size - common >= rare - overlap\n",
    "    \n",
    "    '''\n",
    "    \n",
    "    # Population is a matrix, where each row represents an individual and each column represents a feature\n",
    "    # (likes common, likes rare)\n",
    "    population = np.zeros((pop_size, 2))\n",
    "    idx = np.arange(0, pop_size)\n",
    "    \n",
    "    # Sample random gazorps\n",
    "    if overlap is None:\n",
    "        overlap = rare/2\n",
    "        \n",
    "    likes_common = np.random.choice(idx, size = common, replace = False)\n",
    "    likes_both = np.random.choice(likes_common, size = overlap, replace = False)\n",
    "\n",
    "    not_likes_common = np.setdiff1d(idx, likes_common)\n",
    "    likes_only_rare = np.random.choice(not_likes_common, size = rare - overlap, replace = False)\n",
    "\n",
    "    likes_rare = np.concatenate((likes_both, likes_only_rare))\n",
    "    likes_rare.sort()\n",
    "\n",
    "        \n",
    "    # Build population matrix\n",
    "    population[likes_common, 0] = 1\n",
    "    population[likes_rare, 1] = 1\n",
    "        \n",
    "    return population"
   ]
  },
  {
   "cell_type": "code",
   "execution_count": 3,
   "metadata": {
    "collapsed": false
   },
   "outputs": [
    {
     "name": "stdout",
     "output_type": "stream",
     "text": [
      "Common: 70\n",
      "Rare: 20\n",
      "Overlap: 5\n"
     ]
    }
   ],
   "source": [
    "test_population = generate_population(70, 20, 5, 100)\n",
    "print('Common: %i' % np.sum(test_population[:,0]))\n",
    "print('Rare: %i' % np.sum(test_population[:,1]))\n",
    "print ('Overlap: %i' % (np.sum(test_population, axis = 1) == 2).sum())"
   ]
  },
  {
   "cell_type": "markdown",
   "metadata": {},
   "source": [
    "Draw population"
   ]
  },
  {
   "cell_type": "code",
   "execution_count": 4,
   "metadata": {
    "collapsed": false
   },
   "outputs": [],
   "source": [
    "def plot_population(population):\n",
    "    pop = np.size(population, 0)\n",
    "    m = np.sqrt(pop).astype(int)\n",
    "\n",
    "    # Create square matrix of gazorps who like common\n",
    "    likes_common = population[:, 0]\n",
    "    likes_common = np.reshape(likes_common, (m, m))\n",
    "\n",
    "    # ... rare\n",
    "    likes_rare = population[:, 1]\n",
    "    likes_rare = np.reshape(likes_rare, (m, m))\n",
    "\n",
    "    fig, (ax1, ax2) = plt.subplots(1, 2)\n",
    "\n",
    "    # Plot common\n",
    "    ax1.imshow(likes_common, interpolation='nearest', cmap = plt.cm.GnBu)\n",
    "    ax1.set_title('Like common')\n",
    "\n",
    "    # Plot rare\n",
    "    ax2.imshow(likes_rare, interpolation='nearest', cmap = plt.cm.Purples)\n",
    "    ax2.set_title('Like rare')\n",
    "\n",
    "    # Label ticks\n",
    "    ax1.set_xticks([])\n",
    "    ax1.set_yticks([])\n",
    "\n",
    "    ax2.set_xticks([])\n",
    "    ax2.set_yticks([])\n",
    "\n",
    "    ax2.set_xticklabels([])\n",
    "    ax2.set_yticklabels([])\n",
    "\n",
    "    # Minor ticks\n",
    "    ax1.set_xticks(np.arange(-.5, 10, 1), minor=True)\n",
    "    ax1.set_yticks(np.arange(-.5, 10, 1), minor=True)\n",
    "\n",
    "    ax2.set_xticks(np.arange(-.5, 10, 1), minor=True)\n",
    "    ax2.set_yticks(np.arange(-.5, 10, 1), minor=True)\n",
    "\n",
    "    # Grid lines\n",
    "    ax1.grid(which='minor', color='w', linestyle='-', linewidth=2)\n",
    "    ax2.grid(which='minor', color='w', linestyle='-', linewidth=2)"
   ]
  },
  {
   "cell_type": "code",
   "execution_count": 5,
   "metadata": {
    "collapsed": false
   },
   "outputs": [
    {
     "data": {
      "image/png": "[encoded data removed]",
      "text/plain": [
       "<matplotlib.figure.Figure at 0x103f523d0>"
      ]
     },
     "metadata": {},
     "output_type": "display_data"
    }
   ],
   "source": [
    "plot_population(test_population)"
   ]
  },
  {
   "cell_type": "markdown",
   "metadata": {},
   "source": [
    "## Similarity model\n",
    "\n",
    "Questions to ask of the model:\n",
    "\n",
    "1. **Validating the rare preference effect:** is the target who likes both games ([1, 1]) judged more similar to the friend who likes the rare game ([0, 1]) than the one who likes the common game ([1, 0])?\n",
    "2. **Generalizing to None trials:** is an agent with unobserved features ([?, ?]) judged more similar to [0, 1] than to [1, 0]?\n",
    "3. **Degree of rarity:** is the model *more likely* to pair [1, 1] with [0, 1] as the difference in popularity between the common and rare game increases?\n",
    "4. **Generalizing to knowledge (TODO):** building in world knowledge about preferences into model? (e.g., that knowledge leads to liking)"
   ]
  },
  {
   "cell_type": "markdown",
   "metadata": {},
   "source": [
    "### Deriving feature weights"
   ]
  },
  {
   "cell_type": "markdown",
   "metadata": {},
   "source": [
    "Shared vs. distinctive weights:"
   ]
  },
  {
   "cell_type": "code",
   "execution_count": 23,
   "metadata": {
    "collapsed": false
   },
   "outputs": [],
   "source": [
    "def model_weights(m, v):\n",
    "    '''\n",
    "    \n",
    "    model_weights\n",
    "\n",
    "    m = mean feature activation (0 -> 1)\n",
    "    v = feature variability (0 -> inf)\n",
    "    \n",
    "    '''\n",
    "    \n",
    "    shared = np.log((m + v )/m) - np.log(1+v)\n",
    "    distinctive = np.log(1+v)\n",
    "    \n",
    "    return (shared, distinctive)"
   ]
  },
  {
   "cell_type": "markdown",
   "metadata": {},
   "source": [
    "Plot changes in model weights as a function of feature activation (`m`) and variability (`v`):"
   ]
  },
  {
   "cell_type": "code",
   "execution_count": 24,
   "metadata": {
    "collapsed": false
   },
   "outputs": [
    {
     "name": "stderr",
     "output_type": "stream",
     "text": [
      "/Users/nataliavelez/anaconda/lib/python2.7/site-packages/ipykernel/__main__.py:11: RuntimeWarning: divide by zero encountered in double_scalars\n"
     ]
    },
    {
     "data": {
      "image/png": "[encoded data removed]",
      "text/plain": [
       "<matplotlib.figure.Figure at 0x109c6f410>"
      ]
     },
     "metadata": {},
     "output_type": "display_data"
    }
   ],
   "source": [
    "mx = np.linspace(0, 1, 100)\n",
    "vx = np.linspace(0, 6, 100)\n",
    "mean_shared = []\n",
    "mean_distinctive = []\n",
    "var_shared = []\n",
    "var_distinctive = []\n",
    "\n",
    "for m in mx:\n",
    "    shared, distinctive = model_weights(m, 1)\n",
    "    mean_shared.append(shared)\n",
    "    mean_distinctive.append(distinctive)\n",
    "\n",
    "for v in vx:\n",
    "    shared, distinctive = model_weights(0.5, v)\n",
    "    var_shared.append(shared)\n",
    "    var_distinctive.append(distinctive)\n",
    "\n",
    "fig, (ax1, ax2) = plt.subplots(1, 2)\n",
    "ax1.plot(mx, mean_shared, 'b')\n",
    "ax1.plot(mx, mean_distinctive, 'r')\n",
    "ax1.set_ylim((0, 1.5))\n",
    "ax1.set_xlabel('Mean')\n",
    "ax1.set_ylabel('Weight')\n",
    "\n",
    "ax2.plot(vx, var_shared, 'b')\n",
    "ax2.plot(vx, var_distinctive, 'r')\n",
    "ax2.set_xlabel('Variability')\n",
    "sns.despine()"
   ]
  },
  {
   "cell_type": "markdown",
   "metadata": {},
   "source": [
    "Shared, distinctive feature weights:"
   ]
  },
  {
   "cell_type": "code",
   "execution_count": 8,
   "metadata": {
    "collapsed": true
   },
   "outputs": [],
   "source": [
    "def feature_weights(population):\n",
    "    # Unpack population\n",
    "    like_common = population[:, 0]\n",
    "    like_rare = population[:, 1]\n",
    "    \n",
    "    # Observed feature activation\n",
    "    N = np.size(population, 0)\n",
    "    Mcommon = np.sum(like_common)\n",
    "    Mrare = np.sum(like_rare)\n",
    "    \n",
    "    # Hyperparameters\n",
    "    a_common = 1 + Mcommon\n",
    "    a_rare = 1 + Mrare\n",
    "    \n",
    "    b_common = 1 + N - Mcommon\n",
    "    b_rare = 1 + N - Mrare\n",
    "    \n",
    "    # Reparametrize hyperparametes as mean and variability\n",
    "    v_common = 1/(a_common + b_common)\n",
    "    v_rare = 1/(a_rare + b_rare)\n",
    "    \n",
    "    m_common = a_common * v_common\n",
    "    m_rare = a_rare * v_rare\n",
    "    \n",
    "    # Feature weights\n",
    "    shared_common, distinctive_common = model_weights(m_common, v_common)\n",
    "    shared_rare, distinctive_rare = model_weights(m_rare, v_rare)\n",
    "    \n",
    "    shared = [shared_common, shared_rare]\n",
    "    distinctive = [distinctive_common, distinctive_rare]\n",
    "    \n",
    "    return shared, distinctive"
   ]
  },
  {
   "cell_type": "code",
   "execution_count": 25,
   "metadata": {
    "collapsed": false
   },
   "outputs": [
    {
     "name": "stdout",
     "output_type": "stream",
     "text": [
      "Weight on shared COMMON preference: 0.002\n",
      "Weight on shared RARE preference: 0.144\n"
     ]
    }
   ],
   "source": [
    "shared, distinctive = feature_weights(test_population)\n",
    "\n",
    "print 'Weight on shared COMMON preference: %.3f' % shared[0]\n",
    "print 'Weight on shared RARE preference: %.3f' % shared[1]"
   ]
  },
  {
   "cell_type": "markdown",
   "metadata": {},
   "source": [
    "Graded effect: Test how weight of shared rare preference changes with degree of rarity"
   ]
  },
  {
   "cell_type": "code",
   "execution_count": 26,
   "metadata": {
    "collapsed": false
   },
   "outputs": [
    {
     "data": {
      "text/plain": [
       "<seaborn.axisgrid.FacetGrid at 0x109d9fb10>"
      ]
     },
     "execution_count": 26,
     "metadata": {},
     "output_type": "execute_result"
    },
    {
     "data": {
      "image/png": "[encoded data removed]",
      "text/plain": [
       "<matplotlib.figure.Figure at 0x109d911d0>"
      ]
     },
     "metadata": {},
     "output_type": "display_data"
    }
   ],
   "source": [
    "conditions = [(common, 90-common) for common in np.linspace(45, 85, 9).astype(int)]\n",
    "rare_weight = []\n",
    "common_weight = []\n",
    "\n",
    "for c, r in conditions:\n",
    "    tmp_pop = generate_population(c, r)\n",
    "    w_shared, _ = feature_weights(tmp_pop)\n",
    "    rare_weight.append(w_shared[1])\n",
    "    common_weight.append(w_shared[0])\n",
    "    \n",
    "rare_weight_df = pd.DataFrame([(str(c), wc, wr) for (c, wc, wr) in zip(conditions, common_weight, rare_weight)],\n",
    "                              columns = ['Condition', 'Common', 'Rare'])\n",
    "\n",
    "rare_weight_df = pd.melt(rare_weight_df, id_vars = ['Condition'],\n",
    "                         value_vars=['Common', 'Rare'],\n",
    "                         var_name='Weight', value_name='Value')\n",
    "\n",
    "sns.factorplot(x='Condition', y='Value', hue='Weight', data=rare_weight_df, aspect=2)"
   ]
  },
  {
   "cell_type": "markdown",
   "metadata": {},
   "source": [
    "### Similarity judgments"
   ]
  },
  {
   "cell_type": "markdown",
   "metadata": {},
   "source": [
    "Degree of similarity between target and friend, based on population:"
   ]
  },
  {
   "cell_type": "code",
   "execution_count": 27,
   "metadata": {
    "collapsed": true
   },
   "outputs": [],
   "source": [
    "def similarity_model(target, friend, population):\n",
    "    \n",
    "    # Feature weights\n",
    "    shared, distinctive = feature_weights(population)\n",
    "\n",
    "    # Categorize features according to whether they overlap or are only present in one agent\n",
    "    intersection = [(t & f) == 1 for t, f in zip(target, friend)]\n",
    "    target_only = [(t & ~f) == 1 for t, f in zip(target, friend)]\n",
    "    friend_only = [(~t & f) == 1 for t, f in zip(target, friend)]\n",
    "\n",
    "    # Bayesian contrast model\n",
    "    intersecting_features = np.array(shared)[intersection]\n",
    "    target_features = np.array(distinctive)[target_only]\n",
    "    friend_features = np.array(distinctive)[friend_only]\n",
    "\n",
    "    # Similarity judgment\n",
    "    similarity = np.sum(intersecting_features) - np.sum(target_features) - np.sum(friend_features)\n",
    "    \n",
    "    return similarity\n",
    "    "
   ]
  },
  {
   "cell_type": "markdown",
   "metadata": {},
   "source": [
    "Similarity to common agent:"
   ]
  },
  {
   "cell_type": "code",
   "execution_count": 28,
   "metadata": {
    "collapsed": false
   },
   "outputs": [
    {
     "data": {
      "text/plain": [
       "-0.007951527489653306"
      ]
     },
     "execution_count": 28,
     "metadata": {},
     "output_type": "execute_result"
    }
   ],
   "source": [
    "similarity_model([1, 1], [1, 0], test_population)"
   ]
  },
  {
   "cell_type": "markdown",
   "metadata": {},
   "source": [
    "Similarity to rare agent:"
   ]
  },
  {
   "cell_type": "code",
   "execution_count": 29,
   "metadata": {
    "collapsed": false
   },
   "outputs": [
    {
     "data": {
      "text/plain": [
       "0.13463832993652905"
      ]
     },
     "execution_count": 29,
     "metadata": {},
     "output_type": "execute_result"
    }
   ],
   "source": [
    "similarity_model([1, 1], [0, 1], test_population)"
   ]
  },
  {
   "cell_type": "markdown",
   "metadata": {},
   "source": [
    "### Friend choice"
   ]
  },
  {
   "cell_type": "markdown",
   "metadata": {},
   "source": [
    "Helper: Count # of Gazorps with feature weights in `preferences`"
   ]
  },
  {
   "cell_type": "code",
   "execution_count": 14,
   "metadata": {
    "collapsed": true
   },
   "outputs": [],
   "source": [
    "def count_preference(population, preference):\n",
    "    \n",
    "    check_fun = lambda row: np.array_equal(row, preference)\n",
    "    has_preference = np.apply_along_axis(check_fun, 1, population)\n",
    "    n_preference = np.sum(has_preference)\n",
    "    \n",
    "    return n_preference"
   ]
  },
  {
   "cell_type": "markdown",
   "metadata": {},
   "source": [
    "Friend choice (Common, Rare, Both trials):"
   ]
  },
  {
   "cell_type": "code",
   "execution_count": 15,
   "metadata": {
    "collapsed": true
   },
   "outputs": [],
   "source": [
    "def friend_choice(target, population, alpha = 50):\n",
    "    # Similarity to common agent\n",
    "    sim_common = similarity_model(target, [1, 0], population)\n",
    "    \n",
    "    # Similarity to rare agent\n",
    "    sim_rare = similarity_model(target, [0, 1], population)\n",
    "    \n",
    "    # Choose friends using softmax rule\n",
    "    p_rare = 1/(1+np.exp(-alpha*(sim_rare - sim_common)))\n",
    "    \n",
    "    return p_rare"
   ]
  },
  {
   "cell_type": "code",
   "execution_count": 16,
   "metadata": {
    "collapsed": false
   },
   "outputs": [
    {
     "data": {
      "text/plain": [
       "0.9991995157301589"
      ]
     },
     "execution_count": 16,
     "metadata": {},
     "output_type": "execute_result"
    }
   ],
   "source": [
    "test_population = generate_population(85, 5)\n",
    "friend_choice([1, 1], test_population)"
   ]
  },
  {
   "cell_type": "markdown",
   "metadata": {},
   "source": [
    "**None condition:** Tried several ways of making choice predictions in the None condition. \n",
    "\n",
    "The first is by marginalizing over all possible preferences in the population:"
   ]
  },
  {
   "cell_type": "code",
   "execution_count": 30,
   "metadata": {
    "collapsed": true
   },
   "outputs": [],
   "source": [
    "def friend_none_marginalize(population, alpha = 50):\n",
    "    \n",
    "    # Weight each preference by its prevalence in the population\n",
    "    n = np.size(population, 0)\n",
    "    n = float(n)\n",
    "    w11 = count_preference(population, [1, 1])/n\n",
    "    w10 = count_preference(population, [1, 0])/n\n",
    "    w01 = count_preference(population, [0, 1])/n\n",
    "    w00 = count_preference(population, [0, 0])/n\n",
    "    \n",
    "    # Friend choices for each possible preference\n",
    "    cfun = lambda pref: friend_choice(pref, population, alpha)\n",
    "    c11 = cfun([1,1])\n",
    "    c10 = cfun([1,0])\n",
    "    c01 = cfun([0,1])\n",
    "    c00 = cfun([0,0])\n",
    "    \n",
    "    # Marginalize over all possible preferences\n",
    "    p_rare = w11*c11 + w10*c10 + w01*c01 + w00*c00\n",
    "    \n",
    "    return p_rare"
   ]
  },
  {
   "cell_type": "code",
   "execution_count": 31,
   "metadata": {
    "collapsed": false
   },
   "outputs": [
    {
     "data": {
      "text/plain": [
       "<seaborn.axisgrid.FacetGrid at 0x10a7fb990>"
      ]
     },
     "execution_count": 31,
     "metadata": {},
     "output_type": "execute_result"
    },
    {
     "data": {
      "image/png": "[encoded data removed]",
      "text/plain": [
       "<matplotlib.figure.Figure at 0x10a784090>"
      ]
     },
     "metadata": {},
     "output_type": "display_data"
    }
   ],
   "source": [
    "none_marginalize_df = pd.DataFrame([(c, friend_none_marginalize(generate_population(c[0], c[1])))\n",
    "                                    for c in conditions],\n",
    "                                  columns = ['Condition', 'pRare'])\n",
    "\n",
    "sns.factorplot(x='Condition', y='pRare', data=none_marginalize_df, aspect = 1.5)"
   ]
  },
  {
   "cell_type": "markdown",
   "metadata": {},
   "source": [
    "**Notes:** Marginalizing over all possible preferences underestimates how much people match the friend who has the common preference."
   ]
  },
  {
   "cell_type": "markdown",
   "metadata": {},
   "source": [
    "The second is by assuming that the target with the unstated preferences has the same preferences as the prototype:"
   ]
  },
  {
   "cell_type": "code",
   "execution_count": 32,
   "metadata": {
    "collapsed": true
   },
   "outputs": [],
   "source": [
    "def friend_none_prototype(population, alpha = 50):\n",
    "    # Get all unique preferences in the population\n",
    "    preferences = np.unique(population, axis=0)\n",
    "    \n",
    "    # Helper function: Count prevalence of each preference in the population\n",
    "    count_fun = lambda pref: count_preference(population, pref)\n",
    "    counts = np.apply_along_axis(count_fun, 1, preferences)\n",
    "    max_count = np.argmax(counts)\n",
    "    \n",
    "    # Get most common preference (prototype)\n",
    "    prototype = preferences[max_count,].astype(int)\n",
    "    \n",
    "    # Friend choice based on prototype\n",
    "    p_rare = friend_choice(prototype, population, alpha)\n",
    "    \n",
    "    return p_rare"
   ]
  },
  {
   "cell_type": "code",
   "execution_count": 33,
   "metadata": {
    "collapsed": false
   },
   "outputs": [
    {
     "data": {
      "text/plain": [
       "<seaborn.axisgrid.FacetGrid at 0x10a798a90>"
      ]
     },
     "execution_count": 33,
     "metadata": {},
     "output_type": "execute_result"
    },
    {
     "data": {
      "image/png": "[encoded data removed]",
      "text/plain": [
       "<matplotlib.figure.Figure at 0x10b1741d0>"
      ]
     },
     "metadata": {},
     "output_type": "display_data"
    }
   ],
   "source": [
    "none_prototype_df = pd.DataFrame([(c, friend_none_prototype(generate_population(c[0], c[1])))\n",
    "                                  for c in conditions],\n",
    "                                  columns = ['Condition', 'pRare'])\n",
    "\n",
    "sns.factorplot(x='Condition', y='pRare', data=none_prototype_df, aspect = 1.5)"
   ]
  },
  {
   "cell_type": "markdown",
   "metadata": {},
   "source": [
    "Choice predictions:"
   ]
  },
  {
   "cell_type": "code",
   "execution_count": 34,
   "metadata": {
    "collapsed": false
   },
   "outputs": [],
   "source": [
    "def choice_predictions(condition, none_fun, alpha = 50):\n",
    "    common, rare = condition\n",
    "    population = generate_population(common, rare)\n",
    "    \n",
    "    choice_both = friend_choice([1, 1], population, alpha)\n",
    "    choice_common = friend_choice([1, 0], population, alpha)\n",
    "    choice_rare = friend_choice([0, 1], population, alpha)\n",
    "    choice_none = none_fun(population, alpha)\n",
    "    \n",
    "    choice = {'Condition': str(condition),\n",
    "              'Both': choice_both,\n",
    "              'Unstated': choice_none,\n",
    "              'Common': choice_common,\n",
    "              'Rare': choice_rare}\n",
    "    \n",
    "    return choice"
   ]
  },
  {
   "cell_type": "code",
   "execution_count": 35,
   "metadata": {
    "collapsed": false
   },
   "outputs": [
    {
     "data": {
      "image/png": "[encoded data removed]",
      "text/plain": [
       "<matplotlib.figure.Figure at 0x10b0f6210>"
      ]
     },
     "metadata": {},
     "output_type": "display_data"
    }
   ],
   "source": [
    "# Generate choice predictions\n",
    "choice_list = [choice_predictions(c, friend_none_prototype, 100) for c in conditions]\n",
    "choice_df = pd.DataFrame.from_dict(choice_list)\n",
    "choice_df = choice_df[['Condition', 'Common', 'Rare', 'Both', 'Unstated']]\n",
    "choice_df = choice_df.melt(id_vars='Condition', value_vars=['Common', 'Rare', 'Both', 'Unstated'],\n",
    "                           var_name = 'Trial', value_name = 'pRare')\n",
    "\n",
    "# Color palette\n",
    "gazorp_palette = sns.color_palette(['#bbdeea', '#d1aee8', '#4D58D1', '#8CB73C'])\n",
    "\n",
    "with gazorp_palette:\n",
    "    g = sns.factorplot(x='Condition', y='pRare', hue='Trial', data=choice_df, \n",
    "                       aspect = 1.5)\n",
    "    ax = g.axes\n",
    "    ax[0, 0].set_yticks(np.linspace(0, 1, 5))"
   ]
  }
 ],
 "metadata": {
  "kernelspec": {
   "display_name": "Python 2",
   "language": "python",
   "name": "python2"
  },
  "language_info": {
   "codemirror_mode": {
    "name": "ipython",
    "version": 2
   },
   "file_extension": ".py",
   "mimetype": "text/x-python",
   "name": "python",
   "nbconvert_exporter": "python",
   "pygments_lexer": "ipython2",
   "version": "2.7.9"
  }
 },
 "nbformat": 4,
 "nbformat_minor": 0
}
